{
 "cells": [
  {
   "cell_type": "code",
   "execution_count": 6,
   "id": "d96daa6a",
   "metadata": {},
   "outputs": [],
   "source": [
    "from gc import callbacks\n",
    "\n",
    "import librosa\n",
    "import numpy as np\n",
    "from tqdm.auto import tqdm\n",
    "import os\n",
    "import pandas as pd\n",
    "import time\n",
    "import soundfile as savefile\n",
    "\n",
    "## tensor\n",
    "import pyaudio\n",
    "import wave\n",
    "import numpy as np\n",
    "from keras.models import Sequential\n",
    "from keras.layers import Dense, Dropout, Activation, Flatten\n",
    "from keras.layers import Convolution2D, MaxPooling2D\n",
    "from tensorflow.keras.optimizers import Adam\n",
    "from keras.utils import np_utils\n",
    "from sklearn import metrics \n",
    "from sklearn.preprocessing import LabelEncoder\n",
    "import keras\n",
    "\n",
    "max = 0"
   ]
  },
  {
   "cell_type": "code",
   "execution_count": 3,
   "id": "03314fe8",
   "metadata": {},
   "outputs": [
    {
     "name": "stdout",
     "output_type": "stream",
     "text": [
      "recording...\n",
      "finished recording\n"
     ]
    }
   ],
   "source": [
    "FORMAT = pyaudio.paInt16\n",
    "CHANNELS = 1\n",
    "RATE = 16000\n",
    "CHUNK = 1024\n",
    "RECORD_SECONDS = 5\n",
    "WAVE_OUTPUT_FILENAME = \"/Users/anjaeu/Code/졸업프로젝트/new_audio/file.wav\"\n",
    "\n",
    "audio = pyaudio.PyAudio()\n",
    "# start Recording\n",
    "stream = audio.open(format=pyaudio.paInt16, \n",
    "                    channels=CHANNELS, \n",
    "                    rate=RATE, \n",
    "                    input=True,\n",
    "                    frames_per_buffer=CHUNK)\n",
    "\n",
    "print(\"recording...\")\n",
    "\n",
    "frames = []\n",
    "\n",
    "for i in range(0, int(RATE / CHUNK * RECORD_SECONDS)):\n",
    "    data = stream.read(CHUNK)\n",
    "    frames.append(data)\n",
    "print(\"finished recording\")\n",
    "\n",
    "# stop Recording\n",
    "\n",
    "stream.stop_stream()\n",
    "stream.close()\n",
    "audio.terminate()\n",
    "\n",
    "\n",
    "waveFile = wave.open(WAVE_OUTPUT_FILENAME, 'wb')\n",
    "waveFile.setnchannels(CHANNELS)\n",
    "waveFile.setsampwidth(audio.get_sample_size(FORMAT))\n",
    "waveFile.setframerate(RATE)\n",
    "waveFile.writeframes(b''.join(frames))\n",
    "waveFile.close()"
   ]
  },
  {
   "cell_type": "code",
   "execution_count": 4,
   "id": "938905f1",
   "metadata": {},
   "outputs": [],
   "source": [
    "def extract_features(file_name):\n",
    "    try:\n",
    "        audio, sample_rate = librosa.load(file_name, res_type='kaiser_fast') \n",
    "        mfccs = librosa.feature.mfcc(y=audio, sr=sample_rate, n_mfcc=40)\n",
    "        mfccsscaled = np.mean(mfccs.T,axis=0)\n",
    "        global max\n",
    "        if mfccs.shape[1] > max:\n",
    "            max = mfccs.shape[1]\n",
    "\n",
    "    except Exception as e:\n",
    "        print(\"Error encountered while parsing file: \", file_name)\n",
    "        return None \n",
    "     \n",
    "    return mfccsscaled\n",
    "\n",
    "def make_dataset(folder) :\n",
    "    dataset = []\n",
    "    for file in tqdm(os.listdir(folder),colour='green'):\n",
    "        if 'wav' in file:\n",
    "            abs_file_path = os.path.join(folder,file)\n",
    "            data = extract_features(abs_file_path)\n",
    "            dataset.append([data])\n",
    "            \n",
    "    print(\"Dataset 생성 완료\")\n",
    "    return pd.DataFrame(dataset,columns=['data'])"
   ]
  },
  {
   "cell_type": "code",
   "execution_count": null,
   "id": "daec25f1",
   "metadata": {},
   "outputs": [],
   "source": [
    "num_labels = 12 # yy.shape[1]\n",
    "filter_size = 2\n",
    "\n",
    "# Construct model \n",
    "model = Sequential()\n",
    "\n",
    "model.add(Dense(256, input_shape=(40,)))\n",
    "model.add(Activation('relu'))\n",
    "model.add(Dropout(0.5))\n",
    "\n",
    "model.add(Dense(256))\n",
    "model.add(Activation('relu'))\n",
    "model.add(Dropout(0.5))\n",
    "\n",
    "model.add(Dense(num_labels))\n",
    "model.add(Activation('softmax'))\n",
    "\n",
    "model.compile(loss = 'categorical_crossentropy', metrics = ['accuracy']\n",
    "              , optimizer = 'adam')"
   ]
  },
  {
   "cell_type": "code",
   "execution_count": 7,
   "id": "74808bb1",
   "metadata": {},
   "outputs": [
    {
     "name": "stderr",
     "output_type": "stream",
     "text": [
      "2022-11-07 00:10:08.250294: I tensorflow/core/platform/cpu_feature_guard.cc:151] This TensorFlow binary is optimized with oneAPI Deep Neural Network Library (oneDNN) to use the following CPU instructions in performance-critical operations:  AVX2 FMA\n",
      "To enable them in other operations, rebuild TensorFlow with the appropriate compiler flags.\n"
     ]
    }
   ],
   "source": [
    "MLP_Model = keras.models.load_model('weights.best.basic_mlp.hdf5')"
   ]
  },
  {
   "cell_type": "code",
   "execution_count": 10,
   "id": "cda97ecb",
   "metadata": {},
   "outputs": [],
   "source": [
    "def print_prediction(file_name):\n",
    "    \n",
    "    y = [0, 1, 2, 3, 4, 5, 6, 7, 8, 9, 10, 11, 12]\n",
    "    le = LabelEncoder()\n",
    "    le.fit(y)\n",
    "    \n",
    "    featuresdf = make_dataset(file_name)\n",
    "    audio_data = np.array(featuresdf.data.tolist())\n",
    "    y_prob = MLP_Model.predict(audio_data)\n",
    "    predicted_vector = np.argmax(y_prob, axis=1)\n",
    "    predicted_class = le.inverse_transform(predicted_vector)\n",
    "    if predicted_class[0] == 0 :\n",
    "        class_name = 'Car Horn'\n",
    "    elif predicted_class[0] == 1 :\n",
    "        class_name = 'Dog Bark'\n",
    "    elif predicted_class[0] == 2 :\n",
    "        class_name = 'Drilling'\n",
    "    elif predicted_class[0] == 3 :\n",
    "        class_name = 'Engine Idling'\n",
    "    elif predicted_class[0] == 4 :\n",
    "        class_name = 'Jack Hammer'\n",
    "    elif predicted_class[0] == 5 :\n",
    "        class_name = 'Siren'\n",
    "    elif predicted_class[0] == 6 :\n",
    "        class_name = 'Bus'\n",
    "    elif predicted_class[0] == 7 :\n",
    "        class_name = 'Chime'\n",
    "    elif predicted_class[0] == 8 :\n",
    "        class_name = 'Cough'\n",
    "    elif predicted_class[0] == 9 :\n",
    "        class_name = 'Knock'\n",
    "    elif predicted_class[0] == 10 :\n",
    "        class_name = 'Meow'\n",
    "    elif predicted_class[0] == 11 :\n",
    "        class_name = 'Telephone'\n",
    "    else :\n",
    "        class_name = \"Can't recognize\"\n",
    "\n",
    "    print(\"The predicted class is:\", class_name, '\\n') # predicted_class[0]"
   ]
  },
  {
   "cell_type": "code",
   "execution_count": 11,
   "id": "edb90505",
   "metadata": {},
   "outputs": [
    {
     "data": {
      "application/vnd.jupyter.widget-view+json": {
       "model_id": "245b8f4962cf428b8c6e9746eed12e63",
       "version_major": 2,
       "version_minor": 0
      },
      "text/plain": [
       "  0%|          | 0/2 [00:00<?, ?it/s]"
      ]
     },
     "metadata": {},
     "output_type": "display_data"
    },
    {
     "name": "stdout",
     "output_type": "stream",
     "text": [
      "Dataset 생성 완료\n",
      "The predicted class is: Telephone \n",
      "\n"
     ]
    }
   ],
   "source": [
    "file_name = \"/Users/anjaeu/Code/졸업프로젝트/new_audio\"\n",
    "print_prediction(file_name)"
   ]
  },
  {
   "cell_type": "code",
   "execution_count": null,
   "id": "178882f8",
   "metadata": {},
   "outputs": [],
   "source": []
  }
 ],
 "metadata": {
  "kernelspec": {
   "display_name": "Python 3 (ipykernel)",
   "language": "python",
   "name": "python3"
  },
  "language_info": {
   "codemirror_mode": {
    "name": "ipython",
    "version": 3
   },
   "file_extension": ".py",
   "mimetype": "text/x-python",
   "name": "python",
   "nbconvert_exporter": "python",
   "pygments_lexer": "ipython3",
   "version": "3.9.7"
  },
  "vscode": {
   "interpreter": {
    "hash": "745537c4bae7900a3d4641fb2203601aefdef4f9040ad425e894820bd0dba363"
   }
  }
 },
 "nbformat": 4,
 "nbformat_minor": 5
}
